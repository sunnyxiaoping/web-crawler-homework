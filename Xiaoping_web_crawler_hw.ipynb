{
 "cells": [
  {
   "cell_type": "markdown",
   "metadata": {},
   "source": [
    "## 1. Get webpage using *requests*"
   ]
  },
  {
   "cell_type": "code",
   "execution_count": 1,
   "metadata": {},
   "outputs": [
    {
     "name": "stdout",
     "output_type": "stream",
     "text": [
      "\n",
      "\n",
      "<!DOCTYPE html>\n",
      "<html\n",
      "    xmlns:og=\"http://ogp.me/ns#\"\n",
      "    xmlns:fb=\"http://www.facebook.com/2008/fbml\">\n",
      "    <head>\n",
      "         \n",
      "\n",
      "        <meta charset=\"utf-8\">\n",
      "\n",
      "\n",
      "\n",
      "\n",
      "        <script type=\"text/javascript\">var IMDbTimer={starttime: new Date().getTime(),pt:'java'};</script>\n",
      "\n",
      "<script>\n",
      "    if (typeof uet == 'function') {\n",
      "      uet(\"bb\", \"LoadTitle\", {wb: 1});\n",
      "    }\n",
      "</script>\n",
      "  <script>(function(t){ (t.events = t.events || {})[\"csm_head_pre_title\"] = new Date().getTime(); })(IMDbTimer);</script>\n",
      "      \n"
     ]
    }
   ],
   "source": [
    "from requests import get\n",
    "\n",
    "# request the server the content of the web page by using get()\n",
    "# store the server’s response in the variable response.\n",
    "response = get('https://www.imdb.com/search/title/?title_type=feature&year=2022-01-01,2022-12-31&sort=num_votes,desc&view=advanced')\n",
    "\n",
    "# print a small part of response's content by accessing its .text attribute\n",
    "# (response is now a Response object).\n",
    "print(response.text[:500])"
   ]
  },
  {
   "cell_type": "code",
   "execution_count": 29,
   "metadata": {},
   "outputs": [
    {
     "name": "stdout",
     "output_type": "stream",
     "text": [
      "<!DOCTYPE html>\n",
      "<html lang=\"en-US\">\n",
      "   <head>\n",
      "      <title>Access denied</title>\n",
      "      <meta http-equiv=\"X-UA-Compatible\" content=\"IE=Edge\" />\n",
      "      <meta name=\"robots\" content=\"noindex, nofollow\" />\n",
      "      <meta name=\"viewport\" content=\"width=device-width,initial-scale=1\" />\n",
      "      <link rel=\"stylesheet\" href=\"/cdn-cgi/styles/errors.css\" media=\"screen\" />\n",
      "      <script>\n",
      "(function(){if(document.addEventListener&&window.XMLHttpRequest&&JSON&&JSON.stringify){var e=function(a){var c=document.getElementById(\"error-feedback-survey\"),d=document.getElementById(\"error-feedback-success\"),b=new XMLHttpRequest;a={event:\"feedback clicked\",properties:{errorCode:1020,helpful:a,version:5}};b.open(\"POST\",\"https://sparrow.cloudflare.com/api/v1/event\");b.setRequestHeader(\"Content-Type\",\"application/json\");b.setRequestHeader(\"Sparrow-Source-Key\",\"c771f0e4b54944bebf4261d44bd79a1e\");\n",
      "b.send(JSON.stringify(a));c.classList.add(\"feedback-hidden\");d.classList.remove(\"feedback-hidden\")};document.addEventListener(\"DOMContentLoaded\",function(){var a=document.getElementById(\"error-feedback\"),c=document.getElementById(\"feedback-button-yes\"),d=document.getElementById(\"feedback-button-no\");\"classList\"in a&&(a.classList.remove(\"feedback-hidden\"),c.addEventListener(\"click\",function(){e(!0)}),d.addEventListener(\"click\",function(){e(!1)}))})}})();\n",
      "</script>\n",
      "\n",
      "      <script>\n",
      "      (function(){function d(c){var b=document.getElementById(\"copy-label\"),a=document.getElementById(\"cf-details-wrapper-expandable\");c.target.checked?a.classList.add(\"expanded\"):(a.classList.remove(\"expanded\"),b.innerText=\"Click to copy\")}if(document.addEventListener){var e=function(){var c=document.getElementById(\"copy-label\");var b=document.getElementById(\"error-details\").textContent;if(navigator.clipboard)navigator.clipboard.writeText(b);else{var a=document.createElement(\"textarea\");a.value=b;a.style.top=\"0\";a.style.left=\"0\";a.style.position=\"fixed\";document.body.appendChild(a);a.focus();a.select();document.execCommand(\"copy\");document.body.removeChild(a)}c.innerText=\"Copied text to clipboard\"};document.addEventListener(\"DOMContentLoaded\",function(){var c=document.getElementById(\"error-details-checkbox\"),b=document.getElementById(\"click-to-copy-btn\");document.getElementById(\"copy-label\").classList.remove(\"hidden\");c.addEventListener(\"change\",d);b.addEventListener(\"click\",e)})}})();\n",
      "      </script>\n",
      "      <script defer src=\"https://performance.radar.cloudflare.com/beacon.js\"></script>\n",
      "   </head>\n",
      "   <body>\n",
      "   <div class=\"cf-main-wrapper\" role=\"main\">\n",
      "      <div class=\"cf-header cf-section\">\n",
      "         <div class=\"cf-error-title\">\n",
      "            <h1>Access denied</h1>\n",
      "            <span class=\"cf-code-label\">Error code <span>1020</span></span>\n",
      "         </div>\n",
      "         <div class=\"cf-error-description\">\n",
      "            <p>You do not have access to www.indeed.com.</p><p>The site owner may have set restrictions that prevent you from accessing the site.</p>\n",
      "         </div>\n",
      "      </div>\n",
      "   </div>\n",
      "\n",
      "   <div class=\"cf-details-wrapper\">\n",
      "      <div class=\"cf-section\" role=\"region\">\n",
      "         <div class=\"cf-expandable\" id=\"cf-details-wrapper-expandable\">\n",
      "            <label for=\"error-details-checkbox\" title=\"Error details\" class=\"cf-expandable-btn\">\n",
      "               <p class=\"cf-dropdown-title\">Error details</p>\n",
      "               <img src=\"data:image/png;base64,iVBORw0KGgoAAAANSUhEUgAAACAAAAAgBAMAAACBVGfHAAAAElBMVEUAAAAwMDAxMTEyMjIwMDAxMTF+89HTAAAABXRSTlMAf2CAMKS61bwAAABTSURBVCjPzcq7DcAgFENR5zMATfo06TNCViAS+6+CeFi6gglw4eLqaPVtaQpXnkApaQT/k0dw70EAUhCA1AnABGACMAGYAEwAkCOAydv+I5xaZhXWbQrD80TkkQAAAABJRU5ErkJggg==\"\n",
      "               class=\"cf-caret-icon\" id=\"caret-icon\" alt=\"Caret icon\" />\n",
      "            </label>\n",
      "\n",
      "            <input id=\"error-details-checkbox\" class=\"hidden\" type=\"checkbox\">\n",
      "\n",
      "            <div class=\"cf-expandable-error-info hidden\">\n",
      "               <p class=\"cf-error-copy-description\">Provide the site owner this information.</p>\n",
      "               <button class=\"cf-click-to-copy-btn\" id=\"click-to-copy-btn\" title=\"Click to copy\" type=\"button\">\n",
      "<div class=\"cf-error-wrapper\" id=\"error-details\"><p class=\"cf-error-details-endpoint\">I got an error when visiting www.indeed.com/jobs?q=data+science&amp;l=TX&amp;from=searchOnHP&amp;vjk=de98f6b1bc8d004a&amp;advn=2321614383300855.</p>\n",
      "\n",
      "<p>Error code: 1020</p>\n",
      "<p>Ray ID: 799a3dac1f4716c6</p>\n",
      "<p>Country: US</p>\n",
      "<p>Data center: iah01</p>\n",
      "<p>IP: 98.200.196.58</p>\n",
      "<p>Timestamp: 2023-02-15 01:23:54 UTC</p>\n",
      "</div>\n",
      "                  <p class=\"cf-copy-label hidden\" id=\"copy-label\">Click to copy</p>\n",
      "               </button>\n",
      "            </div>\n",
      "         </div>\n",
      "      </div>\n",
      "\n",
      "      <div class=\"clearfix cf-footer cf-section\" role=\"contentinfo\">\n",
      "      <div class=\"cf-column\">\n",
      "           <div class=\"feedback-hidden py-8 text-center\" id=\"error-feedback\">\n",
      "    <div id=\"error-feedback-survey\" class=\"footer-line-wrapper\">\n",
      "        Was this page helpful?\n",
      "        <button class=\"border border-solid bg-white cf-button cursor-pointer ml-4 px-4 py-2 rounded\" id=\"feedback-button-yes\" type=\"button\">Yes</button>\n",
      "        <button class=\"border border-solid bg-white cf-button cursor-pointer ml-4 px-4 py-2 rounded\" id=\"feedback-button-no\" type=\"button\">No</button>\n",
      "    </div>\n",
      "    <div class=\"feedback-success feedback-hidden\" id=\"error-feedback-success\">\n",
      "        Thank you for your feedback!\n",
      "    </div>\n",
      "</div>\n",
      "\n",
      "      </div>\n",
      "         <div class=\"cf-column cf-footer-line-wrapper text-center\">\n",
      "            <p>\n",
      "               Performance &amp; security by <a rel=\"noopener noreferrer\" href=\"https://www.cloudflare.com?utm_source=1020_error\" target=\"_blank\">Cloudflare <img class=\"external-link\" title=\"Opens in new tab\" src=\"/cdn-cgi/images/external.png\" alt=\"External link\"></a>\n",
      "            </p>\n",
      "         </div>\n",
      "      </div>\n",
      "   </div>\n",
      "<script defer src=\"https://static.cloudflareinsights.com/beacon.min.js/vaafb692b2aea4879b33c060e79fe94621666317369993\" integrity=\"sha512-0ahDYl866UMhKuYcW078ScMalXqtFJggm7TmlUtp0UlD4eQk0Ixfnm5ykXKvGJNFjLMoortdseTfsRT8oCfgGA==\" data-cf-beacon='{\"rayId\":\"799a3dac1f4716c6\",\"token\":\"47161d92b8b74ef5b23469b91c2535c6\",\"version\":\"2023.2.0\",\"si\":100}' crossorigin=\"anonymous\"></script>\n",
      "</body>\n",
      "</html>\n",
      "\n"
     ]
    }
   ],
   "source": [
    "print(webpage)"
   ]
  },
  {
   "cell_type": "markdown",
   "metadata": {},
   "source": [
    "## 2. Get specific contents using BeatifulSoup"
   ]
  },
  {
   "cell_type": "code",
   "execution_count": 2,
   "metadata": {},
   "outputs": [
    {
     "data": {
      "text/plain": [
       "bs4.BeautifulSoup"
      ]
     },
     "execution_count": 2,
     "metadata": {},
     "output_type": "execute_result"
    }
   ],
   "source": [
    "from bs4 import BeautifulSoup\n",
    "\n",
    "# The 'html.parser' argument indicates that we want to do the\n",
    "# parsing using Python’s built-in HTML parser.\n",
    "html_soup = BeautifulSoup(response.text, 'html.parser')\n",
    "\n",
    "type(html_soup)"
   ]
  },
  {
   "cell_type": "code",
   "execution_count": 3,
   "metadata": {},
   "outputs": [
    {
     "name": "stdout",
     "output_type": "stream",
     "text": [
      "<class 'bs4.element.ResultSet'>\n",
      "50\n"
     ]
    }
   ],
   "source": [
    "movie_containers = html_soup.find_all('div', class_ = 'lister-item mode-advanced')\n",
    "print(type(movie_containers))\n",
    "print(len(movie_containers))"
   ]
  },
  {
   "cell_type": "code",
   "execution_count": 4,
   "metadata": {},
   "outputs": [],
   "source": [
    "#stored the content of this container in the first_movie variable\n",
    "first_movie = movie_containers[0]"
   ]
  },
  {
   "cell_type": "code",
   "execution_count": 6,
   "metadata": {},
   "outputs": [
    {
     "data": {
      "text/plain": [
       "<div class=\"lister-item mode-advanced\">\n",
       "<div class=\"lister-top-right\">\n",
       "<div class=\"ribbonize\" data-caller=\"filmosearch\" data-tconst=\"tt1877830\"></div>\n",
       "</div>\n",
       "<div class=\"lister-item-image float-left\">\n",
       "<a href=\"/title/tt1877830/\"> <img alt=\"The Batman\" class=\"loadlate\" data-tconst=\"tt1877830\" height=\"98\" loadlate=\"https://m.media-amazon.com/images/M/MV5BMDdmMTBiNTYtMDIzNi00NGVlLWIzMDYtZTk3MTQ3NGQxZGEwXkEyXkFqcGdeQXVyMzMwOTU5MDk@._V1_UX67_CR0,0,67,98_AL_.jpg\" src=\"https://m.media-amazon.com/images/S/sash/4FyxwxECzL-U1J8.png\" width=\"67\"/>\n",
       "</a> </div>\n",
       "<div class=\"lister-item-content\">\n",
       "<h3 class=\"lister-item-header\">\n",
       "<span class=\"lister-item-index unbold text-primary\">1.</span>\n",
       "<a href=\"/title/tt1877830/\">The Batman</a>\n",
       "<span class=\"lister-item-year text-muted unbold\">(2022)</span>\n",
       "</h3>\n",
       "<p class=\"text-muted\">\n",
       "<span class=\"certificate\">PG-13</span>\n",
       "<span class=\"ghost\">|</span>\n",
       "<span class=\"runtime\">176 min</span>\n",
       "<span class=\"ghost\">|</span>\n",
       "<span class=\"genre\">\n",
       "Action, Crime, Drama            </span>\n",
       "</p>\n",
       "<div class=\"ratings-bar\">\n",
       "<div class=\"inline-block ratings-imdb-rating\" data-value=\"7.8\" name=\"ir\">\n",
       "<span class=\"global-sprite rating-star imdb-rating\"></span>\n",
       "<strong>7.8</strong>\n",
       "</div>\n",
       "<div class=\"inline-block ratings-user-rating\">\n",
       "<span class=\"userRatingValue\" data-tconst=\"tt1877830\" id=\"urv_tt1877830\">\n",
       "<span class=\"global-sprite rating-star no-rating\"></span>\n",
       "<span class=\"rate\" data-no-rating=\"Rate this\" data-value=\"0\" name=\"ur\">Rate this</span>\n",
       "</span>\n",
       "<div class=\"starBarWidget\" id=\"sb_tt1877830\">\n",
       "<div class=\"rating rating-list\" data-csrf-token=\"\" data-ga-identifier=\"\" data-starbar-class=\"rating-list\" data-user=\"\" id=\"tt1877830|imdb|7.8|7.8|adv_li_tt||advsearch|title\" itemprop=\"aggregateRating\" itemscope=\"\" itemtype=\"http://schema.org/AggregateRating\" title=\"Users rated this 7.8/10 (671,870 votes) - click stars to rate\">\n",
       "<meta content=\"7.8\" itemprop=\"ratingValue\"/>\n",
       "<meta content=\"10\" itemprop=\"bestRating\"/>\n",
       "<meta content=\"671870\" itemprop=\"ratingCount\"/>\n",
       "<span class=\"rating-bg\"> </span>\n",
       "<span class=\"rating-imdb\" style=\"width: 109.2px\"> </span>\n",
       "<span class=\"rating-stars\">\n",
       "<a href=\"/register/login?why=vote\" rel=\"nofollow\" title=\"Register or login to rate this title\"><span>1</span></a>\n",
       "<a href=\"/register/login?why=vote\" rel=\"nofollow\" title=\"Register or login to rate this title\"><span>2</span></a>\n",
       "<a href=\"/register/login?why=vote\" rel=\"nofollow\" title=\"Register or login to rate this title\"><span>3</span></a>\n",
       "<a href=\"/register/login?why=vote\" rel=\"nofollow\" title=\"Register or login to rate this title\"><span>4</span></a>\n",
       "<a href=\"/register/login?why=vote\" rel=\"nofollow\" title=\"Register or login to rate this title\"><span>5</span></a>\n",
       "<a href=\"/register/login?why=vote\" rel=\"nofollow\" title=\"Register or login to rate this title\"><span>6</span></a>\n",
       "<a href=\"/register/login?why=vote\" rel=\"nofollow\" title=\"Register or login to rate this title\"><span>7</span></a>\n",
       "<a href=\"/register/login?why=vote\" rel=\"nofollow\" title=\"Register or login to rate this title\"><span>8</span></a>\n",
       "<a href=\"/register/login?why=vote\" rel=\"nofollow\" title=\"Register or login to rate this title\"><span>9</span></a>\n",
       "<a href=\"/register/login?why=vote\" rel=\"nofollow\" title=\"Register or login to rate this title\"><span>10</span></a>\n",
       "</span>\n",
       "<span class=\"rating-rating\"><span class=\"value\">7.8</span><span class=\"grey\">/</span><span class=\"grey\">10</span></span>\n",
       "<span class=\"rating-cancel\"><a href=\"/title/tt1877830/vote\" rel=\"nofollow\" title=\"Delete\"><span>X</span></a></span>\n",
       " </div>\n",
       "</div>\n",
       "</div>\n",
       "<div class=\"inline-block ratings-metascore\">\n",
       "<span class=\"metascore favorable\">72        </span>\n",
       "        Metascore\n",
       "            </div>\n",
       "</div>\n",
       "<p class=\"text-muted\">\n",
       "When a sadistic serial killer begins murdering key political figures in Gotham, Batman is forced to investigate the city's hidden corruption and question his family's involvement.</p>\n",
       "<p class=\"\">\n",
       "    Director:\n",
       "<a href=\"/name/nm0716257/\">Matt Reeves</a>\n",
       "<span class=\"ghost\">|</span> \n",
       "    Stars:\n",
       "<a href=\"/name/nm1500155/\">Robert Pattinson</a>, \n",
       "<a href=\"/name/nm2368789/\">Zoë Kravitz</a>, \n",
       "<a href=\"/name/nm0942482/\">Jeffrey Wright</a>, \n",
       "<a href=\"/name/nm0268199/\">Colin Farrell</a>\n",
       "</p>\n",
       "<p class=\"sort-num_votes-visible\">\n",
       "<span class=\"text-muted\">Votes:</span>\n",
       "<span data-value=\"671870\" name=\"nv\">671,870</span>\n",
       "</p>\n",
       "</div>\n",
       "</div>"
      ]
     },
     "execution_count": 6,
     "metadata": {},
     "output_type": "execute_result"
    }
   ],
   "source": [
    "# check to make sure first movie is same as we saw on search page\n",
    "first_movie"
   ]
  },
  {
   "cell_type": "code",
   "execution_count": 7,
   "metadata": {},
   "outputs": [
    {
     "data": {
      "text/plain": [
       "'The Batman'"
      ]
     },
     "execution_count": 7,
     "metadata": {},
     "output_type": "execute_result"
    }
   ],
   "source": [
    "first_movie.h3.a.text"
   ]
  },
  {
   "cell_type": "code",
   "execution_count": 9,
   "metadata": {},
   "outputs": [
    {
     "data": {
      "text/plain": [
       "'(2022)'"
      ]
     },
     "execution_count": 9,
     "metadata": {},
     "output_type": "execute_result"
    }
   ],
   "source": [
    "first_movie.h3.find('span', class_ = 'lister-item-year text-muted unbold').text"
   ]
  },
  {
   "cell_type": "code",
   "execution_count": 10,
   "metadata": {},
   "outputs": [
    {
     "data": {
      "text/plain": [
       "'7.8'"
      ]
     },
     "execution_count": 10,
     "metadata": {},
     "output_type": "execute_result"
    }
   ],
   "source": [
    "first_movie.strong.text"
   ]
  },
  {
   "cell_type": "code",
   "execution_count": 11,
   "metadata": {},
   "outputs": [
    {
     "data": {
      "text/plain": [
       "<p class=\"\">\n",
       "    Director:\n",
       "<a href=\"/name/nm0716257/\">Matt Reeves</a>\n",
       "<span class=\"ghost\">|</span> \n",
       "    Stars:\n",
       "<a href=\"/name/nm1500155/\">Robert Pattinson</a>, \n",
       "<a href=\"/name/nm2368789/\">Zoë Kravitz</a>, \n",
       "<a href=\"/name/nm0942482/\">Jeffrey Wright</a>, \n",
       "<a href=\"/name/nm0268199/\">Colin Farrell</a>\n",
       "</p>"
      ]
     },
     "execution_count": 11,
     "metadata": {},
     "output_type": "execute_result"
    }
   ],
   "source": [
    "# who direct the movie?\n",
    "\n",
    "first_movie.find('p', class_ = '')\n",
    "# check to see whether he was Matt Reeves."
   ]
  },
  {
   "cell_type": "code",
   "execution_count": 12,
   "metadata": {},
   "outputs": [],
   "source": [
    "headers = {\"Accept-Language\": \"en-US, en;q=0.5\"}"
   ]
  },
  {
   "cell_type": "code",
   "execution_count": null,
   "metadata": {},
   "outputs": [],
   "source": [
    "pages = [str(i) for i in range(1,5)]\n",
    "years_url = [str(i) for i in range(2000,2023)]"
   ]
  },
  {
   "cell_type": "markdown",
   "metadata": {},
   "source": [
    "### 3. Sleep"
   ]
  },
  {
   "cell_type": "markdown",
   "metadata": {},
   "source": [
    "You would be banned, if you scrape a website too fast. Let your crawler sleep for a while after each round."
   ]
  },
  {
   "cell_type": "code",
   "execution_count": 13,
   "metadata": {},
   "outputs": [],
   "source": [
    "from time import sleep\n",
    "from random import randint"
   ]
  },
  {
   "cell_type": "code",
   "execution_count": 14,
   "metadata": {},
   "outputs": [
    {
     "name": "stdout",
     "output_type": "stream",
     "text": [
      "Request: 1; Frequency: 0.3327651189687917 requests/s\n",
      "Request: 2; Frequency: 0.39915859203919046 requests/s\n",
      "Request: 3; Frequency: 0.4986675618940813 requests/s\n",
      "Request: 4; Frequency: 0.49866240888501123 requests/s\n",
      "Request: 5; Frequency: 0.4986585227071966 requests/s\n"
     ]
    }
   ],
   "source": [
    "from time import time\n",
    "\n",
    "# Set a starting time using the time() function from the time module, and assign the value to start_time.\n",
    "start_time = time()\n",
    "\n",
    "# Assign 0 to the variable requests which we’ll use to count the number of requests.\n",
    "request = 0\n",
    "\n",
    "#Start a loop, and then with each iteration:\n",
    "    #- Simulate a request.\n",
    "    #- Increment the number of requests by 1.\n",
    "    #- Pause the loop for a time interval between 8 and 15 seconds.\n",
    "    #- Calculate the elapsed time since the first request, and assign the value to elapsed_time.\n",
    "    #- Print the number of requests and the frequency.\n",
    "    \n",
    "for _ in range(5):\n",
    "    request += 1\n",
    "    sleep(randint(1,3))\n",
    "    elapsed_time = time() - start_time\n",
    "    print('Request: {}; Frequency: {} requests/s'.format(request, request/elapsed_time))"
   ]
  },
  {
   "cell_type": "code",
   "execution_count": 15,
   "metadata": {},
   "outputs": [
    {
     "name": "stdout",
     "output_type": "stream",
     "text": [
      "Request: 5; Frequency: 0.4532517167636689 requests/s\n"
     ]
    }
   ],
   "source": [
    "from IPython.core.display import clear_output\n",
    "\n",
    "start_time = time()\n",
    "request = 0\n",
    "\n",
    "for _ in range(5):\n",
    "    request += 1\n",
    "    sleep(randint(1,3))\n",
    "    current_time = time()\n",
    "    elapsed_time = current_time - start_time\n",
    "    print('Request: {}; Frequency: {} requests/s'.format(request, request/elapsed_time))\n",
    "    clear_output(wait = True)"
   ]
  },
  {
   "cell_type": "code",
   "execution_count": 17,
   "metadata": {},
   "outputs": [
    {
     "name": "stdout",
     "output_type": "stream",
     "text": [
      "Request:2; Frequency: 0.0712900808521175 requests/s\n"
     ]
    }
   ],
   "source": [
    "names = []\n",
    "years = []\n",
    "imdb_ratings = []\n",
    "metascores = []\n",
    "directors = []\n",
    "votes = []\n",
    "gross = []\n",
    "\n",
    "# Prepare the loop\n",
    "start_time = time()\n",
    "request = 0\n",
    "\n",
    "pages = [str(i) for i in range(1,3)]\n",
    "years_url = [str(i) for i in range(2021,2022)]\n",
    "\n",
    "# For every year in the interval 2021-2022, not including 2022\n",
    "for year_url in years_url:\n",
    "\n",
    "    # For every page in the interval 1-4\n",
    "    for page in pages:\n",
    "\n",
    "        # Make a get request\n",
    "        # Exp: https://www.imdb.com/search/title/?release_date=2019&sort=num_votes,desc&page=1\n",
    "        response = get('http://www.imdb.com/search/title?release_date='+year_url+'&sort=num_votes,desc&page='+page, headers = headers)\n",
    "\n",
    "        # Pause the loop\n",
    "        sleep(randint(8,15))\n",
    "\n",
    "        # Monitor the requests\n",
    "        request += 1\n",
    "        elapsed_time = time() - start_time\n",
    "        print('Request:{}; Frequency: {} requests/s'.format(request, request/elapsed_time))\n",
    "        clear_output(wait = True)\n",
    "\n",
    "        # Throw a warning for non-200 status codes\n",
    "        if response.status_code != 200:\n",
    "            warn('Request: {}; Status code: {}'.format(request, response.status_code))\n",
    "\n",
    "        # Break the loop if the number of requests is greater than expected\n",
    "        # 4 pages * 10 years = 40 requests\n",
    "        if request > 40:\n",
    "            warn('Number of requests was greater than expected.')\n",
    "            break\n",
    "\n",
    "        # Parse the content of the request with BeautifulSoup\n",
    "        page_html = BeautifulSoup(response.text, 'html.parser')\n",
    "\n",
    "        # Select all the 50 movie containers from a single page\n",
    "        mv_containers = page_html.find_all('div', class_ = 'lister-item mode-advanced')\n",
    "\n",
    "        # For every movie of these 50\n",
    "        for container in mv_containers:\n",
    "            # If the movie has a Metascore, then:\n",
    "            if container.find('div', class_ = 'ratings-metascore') is not None:\n",
    "\n",
    "                # Scrape the name\n",
    "                name = container.h3.a.text\n",
    "                names.append(name)\n",
    "\n",
    "                # Scrape the year\n",
    "                year = container.h3.find('span', class_ = 'lister-item-year').text\n",
    "                years.append(year)\n",
    "\n",
    "                # Scrape the IMDB rating\n",
    "                imdb = float(container.strong.text)\n",
    "                imdb_ratings.append(imdb)\n",
    "\n",
    "                # Scrape the Metascore\n",
    "                m_score = container.find('span', class_ = 'metascore').text\n",
    "                metascores.append(int(m_score))\n",
    "                \n",
    "                # Scrape the directors\n",
    "                director = ''.join(container.find('p', class_ = '').text.split('Stars')[0].split('\\n')[2:-2])\n",
    "                directors.append(director)\n",
    "\n",
    "                # Scrape the number of votes\n",
    "                vote = container.find_all('span', attrs = {'name':'nv'})[0]['data-value']\n",
    "                votes.append(int(vote))\n",
    "                \n",
    "                # If the movie has a Gross, then:\n",
    "                if len(container.find_all('span', attrs = {'name':'nv'})) >= 2:\n",
    "                    \n",
    "                    # Scrape the gross\n",
    "                    gross_value = container.find_all('span', attrs = {'name':'nv'})[1]['data-value']\n",
    "                    gross.append(gross_value)\n",
    "                    \n",
    "                else:\n",
    "                    gross.append(\"-\")   "
   ]
  },
  {
   "cell_type": "code",
   "execution_count": 18,
   "metadata": {},
   "outputs": [
    {
     "name": "stdout",
     "output_type": "stream",
     "text": [
      "<class 'pandas.core.frame.DataFrame'>\n",
      "RangeIndex: 74 entries, 0 to 73\n",
      "Data columns (total 7 columns):\n",
      " #   Column     Non-Null Count  Dtype  \n",
      "---  ------     --------------  -----  \n",
      " 0   movie      74 non-null     object \n",
      " 1   year       74 non-null     object \n",
      " 2   imdb       74 non-null     float64\n",
      " 3   metascore  74 non-null     int64  \n",
      " 4   directors  74 non-null     object \n",
      " 5   votes      74 non-null     int64  \n",
      " 6   gross($)   74 non-null     object \n",
      "dtypes: float64(1), int64(2), object(4)\n",
      "memory usage: 4.2+ KB\n",
      "None\n"
     ]
    },
    {
     "data": {
      "text/html": [
       "<div>\n",
       "<style scoped>\n",
       "    .dataframe tbody tr th:only-of-type {\n",
       "        vertical-align: middle;\n",
       "    }\n",
       "\n",
       "    .dataframe tbody tr th {\n",
       "        vertical-align: top;\n",
       "    }\n",
       "\n",
       "    .dataframe thead th {\n",
       "        text-align: right;\n",
       "    }\n",
       "</style>\n",
       "<table border=\"1\" class=\"dataframe\">\n",
       "  <thead>\n",
       "    <tr style=\"text-align: right;\">\n",
       "      <th></th>\n",
       "      <th>movie</th>\n",
       "      <th>year</th>\n",
       "      <th>imdb</th>\n",
       "      <th>metascore</th>\n",
       "      <th>directors</th>\n",
       "      <th>votes</th>\n",
       "      <th>gross($)</th>\n",
       "    </tr>\n",
       "  </thead>\n",
       "  <tbody>\n",
       "    <tr>\n",
       "      <th>0</th>\n",
       "      <td>Spider-Man: No Way Home</td>\n",
       "      <td>(2021)</td>\n",
       "      <td>8.2</td>\n",
       "      <td>71</td>\n",
       "      <td>Jon Watts</td>\n",
       "      <td>770293</td>\n",
       "      <td>804,747,988</td>\n",
       "    </tr>\n",
       "    <tr>\n",
       "      <th>1</th>\n",
       "      <td>Dune</td>\n",
       "      <td>(2021)</td>\n",
       "      <td>8.0</td>\n",
       "      <td>74</td>\n",
       "      <td>Denis Villeneuve</td>\n",
       "      <td>649201</td>\n",
       "      <td>108,327,830</td>\n",
       "    </tr>\n",
       "    <tr>\n",
       "      <th>2</th>\n",
       "      <td>Don't Look Up</td>\n",
       "      <td>(2021)</td>\n",
       "      <td>7.2</td>\n",
       "      <td>49</td>\n",
       "      <td>Adam McKay</td>\n",
       "      <td>545247</td>\n",
       "      <td>-</td>\n",
       "    </tr>\n",
       "    <tr>\n",
       "      <th>3</th>\n",
       "      <td>No Time to Die</td>\n",
       "      <td>(2021)</td>\n",
       "      <td>7.3</td>\n",
       "      <td>68</td>\n",
       "      <td>Cary Joji Fukunaga</td>\n",
       "      <td>409237</td>\n",
       "      <td>160,869,031</td>\n",
       "    </tr>\n",
       "    <tr>\n",
       "      <th>4</th>\n",
       "      <td>Zack Snyder's Justice League</td>\n",
       "      <td>(2021)</td>\n",
       "      <td>8.0</td>\n",
       "      <td>54</td>\n",
       "      <td>Zack Snyder</td>\n",
       "      <td>403667</td>\n",
       "      <td>-</td>\n",
       "    </tr>\n",
       "    <tr>\n",
       "      <th>...</th>\n",
       "      <td>...</td>\n",
       "      <td>...</td>\n",
       "      <td>...</td>\n",
       "      <td>...</td>\n",
       "      <td>...</td>\n",
       "      <td>...</td>\n",
       "      <td>...</td>\n",
       "    </tr>\n",
       "    <tr>\n",
       "      <th>69</th>\n",
       "      <td>CODA</td>\n",
       "      <td>(2021)</td>\n",
       "      <td>8.0</td>\n",
       "      <td>72</td>\n",
       "      <td>Sian Heder</td>\n",
       "      <td>138664</td>\n",
       "      <td>-</td>\n",
       "    </tr>\n",
       "    <tr>\n",
       "      <th>70</th>\n",
       "      <td>F9: The Fast Saga</td>\n",
       "      <td>(2021)</td>\n",
       "      <td>5.2</td>\n",
       "      <td>58</td>\n",
       "      <td>Justin Lin</td>\n",
       "      <td>136680</td>\n",
       "      <td>173,202,780</td>\n",
       "    </tr>\n",
       "    <tr>\n",
       "      <th>71</th>\n",
       "      <td>The Guilty</td>\n",
       "      <td>(2021)</td>\n",
       "      <td>6.3</td>\n",
       "      <td>63</td>\n",
       "      <td>Antoine Fuqua</td>\n",
       "      <td>129971</td>\n",
       "      <td>-</td>\n",
       "    </tr>\n",
       "    <tr>\n",
       "      <th>72</th>\n",
       "      <td>The French Dispatch</td>\n",
       "      <td>(2021)</td>\n",
       "      <td>7.1</td>\n",
       "      <td>74</td>\n",
       "      <td>Wes Anderson</td>\n",
       "      <td>127016</td>\n",
       "      <td>-</td>\n",
       "    </tr>\n",
       "    <tr>\n",
       "      <th>73</th>\n",
       "      <td>Old</td>\n",
       "      <td>(2021)</td>\n",
       "      <td>5.8</td>\n",
       "      <td>55</td>\n",
       "      <td>M. Night Shyamalan</td>\n",
       "      <td>125429</td>\n",
       "      <td>-</td>\n",
       "    </tr>\n",
       "  </tbody>\n",
       "</table>\n",
       "<p>74 rows × 7 columns</p>\n",
       "</div>"
      ],
      "text/plain": [
       "                           movie    year  imdb  metascore           directors  \\\n",
       "0        Spider-Man: No Way Home  (2021)   8.2         71           Jon Watts   \n",
       "1                           Dune  (2021)   8.0         74    Denis Villeneuve   \n",
       "2                  Don't Look Up  (2021)   7.2         49          Adam McKay   \n",
       "3                 No Time to Die  (2021)   7.3         68  Cary Joji Fukunaga   \n",
       "4   Zack Snyder's Justice League  (2021)   8.0         54         Zack Snyder   \n",
       "..                           ...     ...   ...        ...                 ...   \n",
       "69                          CODA  (2021)   8.0         72          Sian Heder   \n",
       "70             F9: The Fast Saga  (2021)   5.2         58          Justin Lin   \n",
       "71                    The Guilty  (2021)   6.3         63       Antoine Fuqua   \n",
       "72           The French Dispatch  (2021)   7.1         74        Wes Anderson   \n",
       "73                           Old  (2021)   5.8         55  M. Night Shyamalan   \n",
       "\n",
       "     votes     gross($)  \n",
       "0   770293  804,747,988  \n",
       "1   649201  108,327,830  \n",
       "2   545247            -  \n",
       "3   409237  160,869,031  \n",
       "4   403667            -  \n",
       "..     ...          ...  \n",
       "69  138664            -  \n",
       "70  136680  173,202,780  \n",
       "71  129971            -  \n",
       "72  127016            -  \n",
       "73  125429            -  \n",
       "\n",
       "[74 rows x 7 columns]"
      ]
     },
     "execution_count": 18,
     "metadata": {},
     "output_type": "execute_result"
    }
   ],
   "source": [
    "import pandas as pd\n",
    "movie_ratings = pd.DataFrame({'movie': names,\n",
    "'year': years,\n",
    "'imdb': imdb_ratings,\n",
    "'metascore': metascores,\n",
    "'directors': directors,\n",
    "'votes': votes,\n",
    "'gross($)': gross,\n",
    "})\n",
    "print(movie_ratings.info())\n",
    "movie_ratings"
   ]
  },
  {
   "cell_type": "code",
   "execution_count": 21,
   "metadata": {},
   "outputs": [],
   "source": [
    "movie_result = movie_ratings.to_csv('movie_ratings_raw.csv')"
   ]
  },
  {
   "cell_type": "code",
   "execution_count": 22,
   "metadata": {},
   "outputs": [],
   "source": [
    "movie_result"
   ]
  },
  {
   "cell_type": "code",
   "execution_count": null,
   "metadata": {},
   "outputs": [],
   "source": []
  }
 ],
 "metadata": {
  "kernelspec": {
   "display_name": "Python 3 (ipykernel)",
   "language": "python",
   "name": "python3"
  },
  "language_info": {
   "codemirror_mode": {
    "name": "ipython",
    "version": 3
   },
   "file_extension": ".py",
   "mimetype": "text/x-python",
   "name": "python",
   "nbconvert_exporter": "python",
   "pygments_lexer": "ipython3",
   "version": "3.9.12"
  }
 },
 "nbformat": 4,
 "nbformat_minor": 2
}
